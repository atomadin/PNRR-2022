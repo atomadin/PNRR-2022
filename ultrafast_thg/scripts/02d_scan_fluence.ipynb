{
 "cells": [
  {
   "cell_type": "code",
   "execution_count": null,
   "id": "9680ca7c-8311-4855-b03b-3d032d1ea74d",
   "metadata": {},
   "outputs": [],
   "source": [
    "import numpy as np\n",
    "import pandas as pd\n",
    "import matplotlib as mpl\n",
    "import matplotlib.pyplot as plt\n",
    "import os\n",
    "import json\n",
    "from datetime import datetime\n",
    "import multiprocessing as mp"
   ]
  },
  {
   "cell_type": "code",
   "execution_count": null,
   "id": "d73527bb-c1ff-46c8-8c48-69ceb7b5d434",
   "metadata": {},
   "outputs": [],
   "source": [
    "from models.cooling_phonons_v3 import CoolingPhonons\n",
    "from models.graphene_optics import GrapheneTHG"
   ]
  },
  {
   "cell_type": "code",
   "execution_count": null,
   "id": "00b89bd4-fde9-4183-a3d3-1e49b0989555",
   "metadata": {},
   "outputs": [],
   "source": [
    "run_label = \"fluence\"\n",
    "time_stamp = datetime.now().strftime(\"%Y-%m-%d-%H-%M-%S\")\n",
    "saveDir = \"./data/02/%s_%s\" % (time_stamp, run_label)\n",
    "os.mkdir(saveDir)"
   ]
  },
  {
   "cell_type": "code",
   "execution_count": null,
   "id": "97aba765-23d6-43ea-81af-55389d15b3da",
   "metadata": {},
   "outputs": [],
   "source": [
    "def oneRun(x):\n",
    "    sysparams = {\n",
    "        \"tempK_eq\": 300.0,\n",
    "        \"tau_ph\": 1200.0,\n",
    "        \"pu_fluenceSI\": x[\"pu_fluenceSI\"],\n",
    "        \"pu_dt\": 110.0,\n",
    "        \"pu_eph\": 1.200,\n",
    "        \"pr_delay\": 1000.0,\n",
    "        \"pr_fluenceSI\": 20.0,\n",
    "        \"pr_dt\": 150.0,\n",
    "        \"pr_eph\": 0.320,\n",
    "        \"nsub\": 1.45,\n",
    "        \"ntop\": 1.0,\n",
    "        \"eF\": 0.200\n",
    "    }\n",
    "    dyn = CoolingPhonons(**sysparams)\n",
    "    runparams = {\n",
    "        \"tmax\": (sysparams[\"pr_delay\"] + sysparams[\"pr_dt\"] * 2.0),\n",
    "        \"tnum\": 101,\n",
    "        \"dt_approx\": 10.0,\n",
    "        \"print_time\": False    \n",
    "    }\n",
    "    dyn.run(**runparams)\n",
    "\n",
    "    with open(\"%s/params-%02d.json\" % (x[\"saveDir\"], x[\"il\"]), \"w\") as f:\n",
    "        json.dump({\"sysparams\": sysparams, \"runparams\": runparams}, f, indent=4)\n",
    "\n",
    "    np.savetxt(\"%s/dynamics-%02d.csv\" % (x[\"saveDir\"], x[\"il\"]), dyn.dynamics_m, delimiter=\",\")\n",
    "    np.savetxt(\"%s/thg-%02d.csv\" % (x[\"saveDir\"], x[\"il\"]), np.c_[dyn.p[\"pr_tt\"],dyn.p[\"etaTHG\"]], delimiter=\",\")\n",
    "    \n",
    "    r = (x[\"pu_fluenceSI\"], dyn.p[\"etaTHG_avg\"], dyn.p[\"etaTHG_max\"])\n",
    "    return r"
   ]
  },
  {
   "cell_type": "code",
   "execution_count": null,
   "id": "1c61fbdb-5b98-4aa1-a6b8-245162c92bbe",
   "metadata": {},
   "outputs": [],
   "source": [
    "pu_fluenceSI_list = np.linspace(20.0, 110.0, 10)\n",
    "params_list = [{\"il\": il, \"saveDir\": saveDir, \"pu_fluenceSI\": pu_fluenceSI} for il,pu_fluenceSI in enumerate(pu_fluenceSI_list)]\n",
    "\n",
    "with mp.Pool(10) as p:\n",
    "    thg_list = p.map(oneRun, params_list)\n",
    "\n",
    "thg_list = np.array(thg_list)\n",
    "np.savetxt(\"%s/thg_vs_fluence.csv\" % saveDir, thg_list, delimiter=\",\")"
   ]
  },
  {
   "cell_type": "code",
   "execution_count": null,
   "id": "092d66ba-38aa-410a-abd2-f1a03c83f1fb",
   "metadata": {
    "tags": []
   },
   "outputs": [],
   "source": [
    "mpl.style.use([\"classic\", \"latex\"])\n",
    "fig = plt.figure(figsize=(3.5,3.0), frameon=True, dpi=150)\n",
    "plt.axes([0.2, 0.2, 0.7, 0.7])\n",
    "plt.plot(thg_list[:,0], thg_list[:,1], \"-k\")\n",
    "plt.plot(thg_list[:,0], thg_list[:,2], \"-r\")\n",
    "plt.xlim([0.0, 120.0])\n",
    "plt.ylim([0.0, 1.5e-9])\n",
    "plt.xlabel(r\"${\\cal F}_{\\rm pu}~[\\mu{\\rm J}/{\\rm cm}^{2}]$\")\n",
    "plt.ylabel(r\"$\\eta_{\\rm THG}$\")\n",
    "fig.savefig(\"%s/plot_etaTHG_fluence.png\" % saveDir, dpi=300)"
   ]
  },
  {
   "cell_type": "code",
   "execution_count": null,
   "id": "e043c4b9-f779-4df2-b104-6f585f12ca74",
   "metadata": {},
   "outputs": [],
   "source": []
  }
 ],
 "metadata": {
  "kernelspec": {
   "display_name": "Python 3 (ipykernel)",
   "language": "python",
   "name": "python3"
  },
  "language_info": {
   "codemirror_mode": {
    "name": "ipython",
    "version": 3
   },
   "file_extension": ".py",
   "mimetype": "text/x-python",
   "name": "python",
   "nbconvert_exporter": "python",
   "pygments_lexer": "ipython3",
   "version": "3.6.9"
  }
 },
 "nbformat": 4,
 "nbformat_minor": 5
}
