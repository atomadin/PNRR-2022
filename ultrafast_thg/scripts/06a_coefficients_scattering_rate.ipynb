{
 "cells": [
  {
   "cell_type": "code",
   "execution_count": null,
   "id": "983f4478-0dd1-4615-af97-b084caf7f9a4",
   "metadata": {},
   "outputs": [],
   "source": [
    "# The expression for the THG depends on the electron scattering rate.\n",
    "# The scattering rate is given by a sum of a term proportional to the Fermi energy\n",
    "# and a term proportional to the inverse of the Fermi energy.\n",
    "# Verify the dependence of the THG on the two proportionality coefficients."
   ]
  },
  {
   "cell_type": "code",
   "execution_count": 1,
   "id": "5058961b-4177-46a7-8fa2-2f4c46ec48ec",
   "metadata": {},
   "outputs": [],
   "source": [
    "import numpy as np\n",
    "import pandas as pd\n",
    "import matplotlib as mpl\n",
    "import matplotlib.pyplot as plt\n",
    "import os\n",
    "import json\n",
    "from datetime import datetime\n",
    "import multiprocessing as mp"
   ]
  },
  {
   "cell_type": "code",
   "execution_count": 2,
   "id": "6114ea66-6cba-45de-a1b8-a9586d987953",
   "metadata": {},
   "outputs": [],
   "source": [
    "from models.cooling_phonons_v3 import CoolingPhonons\n",
    "from models.graphene_optics import GrapheneTHG\n",
    "import models.graphene_thermodynamics_v2 as gt"
   ]
  },
  {
   "cell_type": "code",
   "execution_count": 3,
   "id": "f9083446-6932-4e1c-bb49-de6135fec137",
   "metadata": {},
   "outputs": [],
   "source": [
    "params = {\n",
    "    \"pr_fluenceSI\": 110.0,\n",
    "    \"pr_dt\": 150.0,\n",
    "    \"pr_eph\": 0.320,\n",
    "    \"nsub\": 1.4,\n",
    "    \"ntop\": 1.4,\n",
    "    \"eF\": 0.200,\n",
    "    \"tempK\": 30.0,\n",
    "    \"dnE\": 0.01,\n",
    "}\n",
    "# Convert fluence SI [uJ/cm^-2] to [eV / nm^2].\n",
    "params[\"pr_fluence\"] = params[\"pr_fluenceSI\"] * 0.062\n",
    "# Calculate power density [eV / fs nm^2].\n",
    "params[\"pr_powdens\"] = params[\"pr_fluence\"] / params[\"pr_dt\"]\n",
    "# Calculate electron density [nm^-2].\n",
    "dens = gt.twobands_dens_ef_func(params[\"eF\"])\n",
    "# Calculate the chemical potentials.\n",
    "muC, muV = gt.photoexc_mu_func(dens, params[\"dnE\"], params[\"tempK\"])\n",
    "params[\"muC\"] = muC\n",
    "params[\"muV\"] = muV"
   ]
  },
  {
   "cell_type": "code",
   "execution_count": null,
   "id": "184b7c3b-7a1c-497a-821f-cfb0b18f3383",
   "metadata": {},
   "outputs": [],
   "source": [
    "# Create save folder.\n",
    "run_label = \"gamma_coeff\"\n",
    "time_stamp = datetime.now().strftime(\"%Y-%m-%d-%H-%M-%S\")\n",
    "saveDir = \"./data/06/%s_%s\" % (time_stamp, run_label)\n",
    "os.mkdir(saveDir)"
   ]
  },
  {
   "cell_type": "code",
   "execution_count": 39,
   "id": "1df419a1-e85a-4647-ac05-4423cca67dda",
   "metadata": {},
   "outputs": [],
   "source": [
    "# Set save folder.\n",
    "saveDir = \"./data/06/2023-08-07-22-41-02_gamma_coeff\""
   ]
  },
  {
   "cell_type": "code",
   "execution_count": 25,
   "id": "a374a52e-2560-4da7-b117-a7b64edb831f",
   "metadata": {},
   "outputs": [],
   "source": [
    "# List of the two coefficients in the expression of Gamma.\n",
    "coeffPropList = np.logspace(-2.0, 1.0, 31)\n",
    "coeffInvList = np.logspace(-6.0, -1.0, 21)"
   ]
  },
  {
   "cell_type": "code",
   "execution_count": 26,
   "id": "81a21aca-b5bd-4562-9b1b-b47a232d0be0",
   "metadata": {},
   "outputs": [],
   "source": [
    "# Calculate THG efficiency for all temperatures and Fermi energies.\n",
    "\n",
    "def oneEta3(p):\n",
    "    # Prepare the object to calculate the THG efficiency.\n",
    "    thg = GrapheneTHG(nsub=p[\"nsub\"], ntop=p[\"ntop\"], eph=p[\"pr_eph\"], maldagueMin=0.001, maldagueMax=2.0, maldagueNum=301)\n",
    "    thg.coeffGamma(p[\"coeffProp\"], p[\"coeffInv\"])\n",
    "    thg.calculate_eta(powdens=p[\"pr_powdens\"], muC=p[\"muC\"], muV=p[\"muV\"], tempK=p[\"tempK\"])\n",
    "    return (p[\"ij\"][0], p[\"ij\"][1], thg.p[\"eta\"]) \n",
    "\n",
    "# Create a list of parameters for the function.\n",
    "p3_list = []\n",
    "for iProp,coeffProp in enumerate(coeffPropList):\n",
    "    for iInv,coeffInv in enumerate(coeffInvList):\n",
    "        p3_list.append({\"coeffProp\": coeffProp, \"coeffInv\": coeffInv, \"ij\": (iProp,iInv), **params})"
   ]
  },
  {
   "cell_type": "code",
   "execution_count": 27,
   "id": "b4418cdf-a691-4bfd-87e7-05e03809aa80",
   "metadata": {},
   "outputs": [],
   "source": [
    "with mp.Pool(24) as p:\n",
    "    thg3_list = p.map(oneEta3, p3_list)"
   ]
  },
  {
   "cell_type": "code",
   "execution_count": 28,
   "id": "bf03f456-485e-448b-8d20-8602ad274d0a",
   "metadata": {},
   "outputs": [],
   "source": [
    "thg3_df = np.zeros((len(coeffPropList),len(coeffInvList)))\n",
    "for x in thg3_list:\n",
    "    thg3_df[x[0],x[1]] = x[2]"
   ]
  },
  {
   "cell_type": "code",
   "execution_count": 40,
   "id": "e1d15256-dd28-4d34-90f1-beb78ebdd0e0",
   "metadata": {},
   "outputs": [
    {
     "data": {
      "image/png": "[encoded data removed]",
      "text/plain": [
       "<Figure size 525x450 with 2 Axes>"
      ]
     },
     "metadata": {},
     "output_type": "display_data"
    }
   ],
   "source": [
    "mpl.style.use([\"classic\", \"latex\"])\n",
    "fig = plt.figure(figsize=(3.5,3.0), frameon=True, dpi=150)\n",
    "ax1 = plt.axes([0.2, 0.2, 0.6, 0.7])\n",
    "eta = ax1.imshow(np.log10(thg3_df[:,:].transpose()), origin=\"lower\", aspect=\"auto\", interpolation=\"none\",\n",
    "                 extent=(np.log10(coeffPropList[0]),np.log10(coeffPropList[-1]),np.log10(coeffInvList[0]),np.log10(coeffInvList[-1])),\n",
    "                 vmin=-12, vmax=-7, cmap=\"gnuplot\")\n",
    "tk = [-2, -1, 0, 1]\n",
    "plt.xticks(tk, [r\"$10^{%d}$\" % t for t in tk])\n",
    "tk = [-6, -5, -4, -3, -2, -1]\n",
    "plt.yticks(tk, [r\"$10^{%d}$\" % t for t in tk])\n",
    "plt.xlabel(r\"Coeff.~Prop.~$|\\varepsilon_{\\rm F}|$\")\n",
    "plt.ylabel(r\"Coeff.~Inv.~$|\\varepsilon_{\\rm F}|$\")\n",
    "plt.title(r\"\\scriptsize $\\log_{10}({\\rm THG})$\")\n",
    "fig.colorbar(eta)\n",
    "fig.savefig(\"%s/eta_vs_coeff_gamma.png\" % saveDir, dpi=300);"
   ]
  },
  {
   "cell_type": "code",
   "execution_count": null,
   "id": "4811f3af-a657-4f94-9f17-e06d150df9c4",
   "metadata": {},
   "outputs": [],
   "source": []
  }
 ],
 "metadata": {
  "kernelspec": {
   "display_name": "Python 3 (ipykernel)",
   "language": "python",
   "name": "python3"
  },
  "language_info": {
   "codemirror_mode": {
    "name": "ipython",
    "version": 3
   },
   "file_extension": ".py",
   "mimetype": "text/x-python",
   "name": "python",
   "nbconvert_exporter": "python",
   "pygments_lexer": "ipython3",
   "version": "3.6.9"
  }
 },
 "nbformat": 4,
 "nbformat_minor": 5
}
