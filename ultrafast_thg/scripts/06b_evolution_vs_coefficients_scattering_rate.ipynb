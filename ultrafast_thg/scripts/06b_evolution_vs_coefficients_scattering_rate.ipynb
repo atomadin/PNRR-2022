{
 "cells": [
  {
   "cell_type": "code",
   "execution_count": null,
   "id": "ec3e0e37-678f-4176-a069-93e19fa57702",
   "metadata": {},
   "outputs": [],
   "source": [
    "# Run the code without the pump, and calculate the steady-state induced by the probe.\n",
    "\n",
    "# The scattering rate is given by a sum of a term proportional to the Fermi energy\n",
    "# and a term proportional to the inverse of the Fermi energy.\n",
    "# Verify the dependence of the THG on the two proportionality coefficients."
   ]
  },
  {
   "cell_type": "code",
   "execution_count": null,
   "id": "e36ad3f9-5034-40d4-8768-fd38c4b18b01",
   "metadata": {
    "tags": []
   },
   "outputs": [],
   "source": [
    "import math\n",
    "import numpy as np\n",
    "import pandas as pd\n",
    "import matplotlib as mpl\n",
    "import matplotlib.pyplot as plt\n",
    "import os\n",
    "import json\n",
    "from datetime import datetime\n",
    "import multiprocessing as mp\n",
    "import glob"
   ]
  },
  {
   "cell_type": "code",
   "execution_count": null,
   "id": "103f3026-9167-4d2e-822b-4595ef8bd964",
   "metadata": {},
   "outputs": [],
   "source": [
    "%config InlineBackend.print_figure_kwargs = {'bbox_inches': None}"
   ]
  },
  {
   "cell_type": "code",
   "execution_count": null,
   "id": "c5d9be8e-8b03-4c01-b3c0-44ad68cb54e1",
   "metadata": {},
   "outputs": [],
   "source": [
    "import models.graphene_thermodynamics_v2 as gt\n",
    "from models.cooling_phonons_v3 import CoolingPhonons\n",
    "from models.graphene_optics import GrapheneTHG"
   ]
  },
  {
   "cell_type": "code",
   "execution_count": null,
   "id": "3b2907fc-43eb-4c8b-a47d-4b2d34e9f52f",
   "metadata": {},
   "outputs": [],
   "source": [
    "# Load interpolation data for the calculation of chemical potentials.\n",
    "mm = gt.mu_func_use_2d_interpolation(load_from=\"mu_table.pkl\")"
   ]
  },
  {
   "cell_type": "code",
   "execution_count": null,
   "id": "42fb69b9-6579-4c3e-bcc2-3f65d0a817e2",
   "metadata": {},
   "outputs": [],
   "source": [
    "# Return mantissa and exponent base 10.\n",
    "def frexp10(x):\n",
    "    exp = int(math.log10(x))\n",
    "    return (x / 10**exp, exp)"
   ]
  },
  {
   "cell_type": "markdown",
   "id": "731bcbb2-f87c-4b29-83bc-70ec430a41dd",
   "metadata": {},
   "source": [
    "# Coefficients: constant"
   ]
  },
  {
   "cell_type": "code",
   "execution_count": null,
   "id": "dd1fa7e2-8562-4ca9-a165-24ca0dcedd82",
   "metadata": {},
   "outputs": [],
   "source": [
    "# Run the evolution for several Fermi energies and save the values of the THG.\n",
    "\n",
    "def oneRun(x):\n",
    "    thg_list = []\n",
    "    for ieF,eF in enumerate(x[\"eF_list\"]):\n",
    "        sysparams = {**x[\"sysparams\"], \"eF\": eF}\n",
    "        dyn = CoolingPhonons(**sysparams)\n",
    "        dyn.run(**x[\"runparams\"])\n",
    "        thg_list.append(dyn.p[\"etaTHG_avg\"])\n",
    "        \n",
    "        # Save all time-evolutions.  Takes up much space.\n",
    "        if False:\n",
    "            runlabel=\"%02d-%02d-%02d\" % (x[\"i1\"], x[\"i2\"], ieF)\n",
    "            with open(\"%s/params-%s.json\" % (x[\"saveDir\"], runlabel), \"w\") as f:\n",
    "                json.dump({\"sysparams\": x[\"sysparams\"], \"runparams\": runparams}, f, indent=4)\n",
    "            np.savetxt(\"%s/dynamics-%s.csv\" % (x[\"saveDir\"], runlabel), dyn.dynamics_m, delimiter=\",\")\n",
    "            np.savetxt(\"%s/thg-%s.csv\" % (x[\"saveDir\"], runlabel), np.c_[dyn.p[\"pr_tt\"],dyn.p[\"etaTHG\"]], delimiter=\",\")\n",
    "    thg_list = np.array(thg_list)\n",
    "\n",
    "    r = (x[\"i1\"], thg_list)\n",
    "    return r"
   ]
  },
  {
   "cell_type": "code",
   "execution_count": null,
   "id": "699e9bae-1b63-4d70-991d-c5bffce7d4a1",
   "metadata": {},
   "outputs": [],
   "source": [
    "# Dir to save results.\n",
    "run_label = \"coeff_const_30K\"\n",
    "time_stamp = datetime.now().strftime(\"%Y-%m-%d-%H-%M-%S\")\n",
    "saveDir = \"./data/06/%s_%s\" % (time_stamp, run_label)\n",
    "os.mkdir(saveDir)\n",
    "\n",
    "\n",
    "# System's parameters common to all runs.\n",
    "sysparams = {\n",
    "    \"tempK_eq\": 30.0,\n",
    "    \"tau_ph\": 1200.0,\n",
    "    \"pu_fluenceSI\": 0.0,\n",
    "    \"pu_dt\": 50.0,\n",
    "    \"pu_eph\": 1.200,\n",
    "    \"pr_delay\": 50.0,\n",
    "    \"pr_fluenceSI\": 130.0,\n",
    "    \"pr_dt\": 150.0,\n",
    "    \"pr_eph\": 0.320,\n",
    "    \"nsub\": 1.4,  # hBN encapsulated with SiO2 around\n",
    "    \"ntop\": 1.4,\n",
    "    \"gammaProp\": 0.0,\n",
    "    \"gammaInv\": 0.0,\n",
    "    \"dtdb\": 200.0,\n",
    "    \"ph_en_frac\": 1.0,\n",
    "    \"dtdb_cutoff_dens\": None\n",
    "}\n",
    "\n",
    "runparams = {\n",
    "    \"tmax\": 250.0,  # integrate up to a bit later than the end of the probe pulse.\n",
    "    \"tnum\": 51,  # need a finer time mesh, possibly aligned with the pulse\n",
    "    \"dt_approx\": 5.0,\n",
    "    \"print_time\": False    \n",
    "}\n",
    "\n",
    "# List of Fermi energies [eV].\n",
    "eF_list = [0.050, 0.100, 0.150, 0.200, 0.250]\n",
    "# List of the constant coefficient in the expression of Gamma.\n",
    "gammaConstList = np.logspace(-6.0, -2.0, 41)\n",
    "\n",
    "# Create a list of parameters, one for each run.\n",
    "params_list = []\n",
    "for i1,gammaConst in enumerate(gammaConstList):\n",
    "    params_list.append({\"i1\": i1, \"saveDir\": saveDir, \"eF_list\": eF_list,\n",
    "                        \"sysparams\": {**sysparams, \"gammaConst\": gammaConst},\n",
    "                        \"runparams\": runparams})\n",
    "\n",
    "# Temperature as string.\n",
    "tempK = \"%.0f\" % sysparams[\"tempK_eq\"]\n"
   ]
  },
  {
   "cell_type": "code",
   "execution_count": null,
   "id": "41448072-bad1-4f21-8029-767077b2e19c",
   "metadata": {},
   "outputs": [],
   "source": [
    "# Run the calculation.\n",
    "with mp.Pool(24) as p:\n",
    "    res_list = p.map(oneRun, params_list)"
   ]
  },
  {
   "cell_type": "code",
   "execution_count": null,
   "id": "8f545264-cdc3-4743-bb25-3743c0e777bc",
   "metadata": {},
   "outputs": [],
   "source": [
    "# Collect the results.\n",
    "thg_list = np.zeros((len(gammaConstList),len(eF_list)))\n",
    "for res in res_list:\n",
    "    thg_list[res[0],:] = res[1]"
   ]
  },
  {
   "cell_type": "code",
   "execution_count": null,
   "id": "f67d8a09-a361-4c20-b69d-efa597643e9c",
   "metadata": {},
   "outputs": [],
   "source": [
    "# Save the results.\n",
    "with open(\"%s/params.json\" % saveDir, \"w\") as f:\n",
    "    json.dump({\"sysparams\": sysparams, \"runparams\": runparams}, f)\n",
    "    \n",
    "np.savetxt(\"%s/eF_list.csv\" % saveDir, eF_list, delimiter=\", \")\n",
    "np.savetxt(\"%s/gammaConst_list.csv\" % saveDir, gammaConstList, delimiter=\", \")\n",
    "np.savetxt(\"%s/thg_list.csv\" % saveDir, thg_list, delimiter=\", \")"
   ]
  },
  {
   "cell_type": "code",
   "execution_count": null,
   "id": "d5f34bf6-5195-4d7f-819a-21c6b4a0f46b",
   "metadata": {},
   "outputs": [],
   "source": [
    "# Reload results if needed.\n",
    "if False:\n",
    "    saveDir = \"./data/06/2023-08-14-15-09-04_coeff_const_300K\"\n",
    "    #saveDir = \"./data/06/2023-08-13-13-10-45_coeff_const_30K\"\n",
    "    eF_list = np.loadtxt(\"%s/eF_list.csv\" % saveDir, delimiter=\", \")\n",
    "    gammaConstList = np.loadtxt(\"%s/gammaConst_list.csv\" % saveDir, delimiter=\", \")\n",
    "    thg_list = np.loadtxt(\"%s/thg_list.csv\" % saveDir, delimiter=\", \")\n",
    "    tempK = \"300\""
   ]
  },
  {
   "cell_type": "code",
   "execution_count": null,
   "id": "15f4575d-eba9-4deb-9d12-f820c9b4f522",
   "metadata": {},
   "outputs": [],
   "source": [
    "# Plot the THG as a function of the Fermi energy for selected values of\n",
    "# the constant coefficient in Gamma.\n",
    "ii = [10, 20, 30, 40]\n",
    "mpl.style.use([\"classic\", \"latex\"])\n",
    "cmap = mpl.cm.get_cmap('gnuplot_r')\n",
    "plt.figure(figsize=(3.5,3.0), frameon=True, dpi=150)\n",
    "plt.axes([0.2, 0.2, 0.45, 0.7])\n",
    "for i,i1 in enumerate(ii):\n",
    "    plt.plot(eF_list, np.log10(thg_list[i1,:]), \"-o\", ms=5.0,\n",
    "             color=cmap((i+1)/len(ii)),\n",
    "             label=r\"$%.6f$\" % gammaConstList[i1])\n",
    "plt.xlim([0.050, 0.250])\n",
    "plt.ylim([-10.0, -7.0])\n",
    "plt.xlabel(r\"$\\varepsilon_{\\rm F}~[{\\rm eV}]$\")\n",
    "plt.ylabel(r\"$\\log_{10}({\\rm THG})$\")\n",
    "plt.title(r\"\\scriptsize $T_{\\rm L} = %s~{\\rm K}$\" % tempK)\n",
    "plt.legend(frameon=False, loc=\"upper left\", bbox_to_anchor=[1.0, 0.2, 0.3, 0.5], fontsize=9, numpoints=1, title=r\"$\\Gamma_{0}(T_{\\rm L})$\")\n",
    "plt.savefig(\"%s/thg_vs_ef.png\" % saveDir, dpi=300)"
   ]
  },
  {
   "cell_type": "markdown",
   "id": "849d861d-baaa-427f-811c-9f80a147e084",
   "metadata": {
    "tags": []
   },
   "source": [
    "# Coefficients: proportional and inversely proportional"
   ]
  },
  {
   "cell_type": "code",
   "execution_count": null,
   "id": "5f3b874d-cd28-47a6-ace5-2f5776e2591a",
   "metadata": {},
   "outputs": [],
   "source": [
    "# Run the evolution for several Fermi energies and save the values of the THG.\n",
    "\n",
    "def oneRun(x):\n",
    "    thg_list = []\n",
    "    for ieF,eF in enumerate(x[\"eF_list\"]):\n",
    "        sysparams = {**x[\"sysparams\"], \"eF\": eF}\n",
    "        dyn = CoolingPhonons(**sysparams)\n",
    "        dyn.run(**x[\"runparams\"])\n",
    "        thg_list.append(dyn.p[\"etaTHG_avg\"])\n",
    "        \n",
    "        # Save all time-evolutions.  Takes up much space.\n",
    "        if False:\n",
    "            runlabel=\"%02d-%02d-%02d\" % (x[\"i1\"], x[\"i2\"], ieF)\n",
    "            with open(\"%s/params-%s.json\" % (x[\"saveDir\"], runlabel), \"w\") as f:\n",
    "                json.dump({\"sysparams\": x[\"sysparams\"], \"runparams\": runparams}, f, indent=4)\n",
    "            np.savetxt(\"%s/dynamics-%s.csv\" % (x[\"saveDir\"], runlabel), dyn.dynamics_m, delimiter=\",\")\n",
    "            np.savetxt(\"%s/thg-%s.csv\" % (x[\"saveDir\"], runlabel), np.c_[dyn.p[\"pr_tt\"],dyn.p[\"etaTHG\"]], delimiter=\",\")\n",
    "    thg_list = np.array(thg_list)\n",
    "\n",
    "    r = (x[\"i1\"], x[\"i2\"], thg_list)\n",
    "    return r"
   ]
  },
  {
   "cell_type": "code",
   "execution_count": null,
   "id": "ed093e46-bfc6-40b7-a4fd-1d2eb949425e",
   "metadata": {},
   "outputs": [],
   "source": [
    "# System's parameters common to all runs.\n",
    "sysparams = {\n",
    "    \"tempK_eq\": 30.0,\n",
    "    \"tau_ph\": 1200.0,\n",
    "    \"pu_fluenceSI\": 0.0,\n",
    "    \"pu_dt\": 50.0,\n",
    "    \"pu_eph\": 1.200,\n",
    "    \"pr_delay\": 50.0,\n",
    "    \"pr_fluenceSI\": 130.0,\n",
    "    \"pr_dt\": 150.0,\n",
    "    \"pr_eph\": 0.320,\n",
    "    \"nsub\": 1.4,  # hBN encapsulated with SiO2 around\n",
    "    \"ntop\": 1.4,\n",
    "    \"gammaConst\": 0.0,\n",
    "    \"dtdb\": 200.0,\n",
    "    \"ph_en_frac\": 1.0,\n",
    "    \"dtdb_cutoff_dens\": None\n",
    "}\n",
    "\n",
    "runparams = {\n",
    "    \"tmax\": 250.0,  # integrate up to a bit later than the end of the probe pulse.\n",
    "    \"tnum\": 51,  # need a finer time mesh, possibly aligned with the pulse\n",
    "    \"dt_approx\": 5.0,\n",
    "    \"print_time\": False    \n",
    "}\n",
    "\n",
    "# List of Fermi energies [eV].\n",
    "eF_list = [0.050, 0.100, 0.150, 0.200, 0.250]\n",
    "# List of the two coefficients in the expression of Gamma.\n",
    "gammaPropList = np.logspace(-2.0, 0.0, 21)\n",
    "gammaInvList = np.logspace(-2.0, -1.0, 31)\n",
    "\n",
    "# Create a list of parameters, one for each run.\n",
    "params_list = []\n",
    "for i1,gammaProp in enumerate(gammaPropList):\n",
    "    for i2,gammaInv in enumerate(gammaInvList):\n",
    "        params_list.append({\"i1\": i1, \"i2\": i2, \"saveDir\": saveDir, \"eF_list\": eF_list,\n",
    "                            \"sysparams\": {**sysparams, \"gammaProp\": gammaProp, \"gammaInv\": gammaInv},\n",
    "                            \"runparams\": runparams})"
   ]
  },
  {
   "cell_type": "code",
   "execution_count": null,
   "id": "eb1047b7-366f-466e-959c-992a539f85d1",
   "metadata": {},
   "outputs": [],
   "source": [
    "# Run the calculation.\n",
    "with mp.Pool(24) as p:\n",
    "    res_list = p.map(oneRun, params_list)"
   ]
  },
  {
   "cell_type": "code",
   "execution_count": null,
   "id": "86963567-e77c-4fe0-b037-987c16385113",
   "metadata": {},
   "outputs": [],
   "source": [
    "# Collect the results.\n",
    "thg_3d = np.zeros((len(gammaPropList),len(gammaInvList),len(eF_list)))\n",
    "for res in res_list:\n",
    "    thg_3d[res[0],res[1],:] = res[2]\n",
    "# Flatten the results into a dataframe.\n",
    "# Each row contains the scan over the Fermi energy\n",
    "# and refers to the values of gammaProp and gammaInv\n",
    "# unrolled with gammaInv increasing faster.\n",
    "thg_list = []\n",
    "for i1 in range(len(gammaPropList)):\n",
    "    for i2 in range(len(gammaInvList)):\n",
    "        thg_list.append(thg_3d[i1,i2,:])\n",
    "thg_list = np.array(thg_list)"
   ]
  },
  {
   "cell_type": "code",
   "execution_count": null,
   "id": "b4d5f1c8-63de-400c-9faf-6cd06b5a9a6e",
   "metadata": {
    "tags": []
   },
   "outputs": [],
   "source": [
    "# Save the results.\n",
    "np.savetxt(\"%s/eF_list.csv\" % saveDir, eF_list, delimiter=\", \")\n",
    "np.savetxt(\"%s/gammaProp_list.csv\" % saveDir, gammaPropList, delimiter=\", \")\n",
    "np.savetxt(\"%s/gammaInv_list.csv\" % saveDir, gammaInvList, delimiter=\", \")\n",
    "np.savetxt(\"%s/thg_list.csv\" % saveDir, thg_list, delimiter=\", \")\n"
   ]
  },
  {
   "cell_type": "code",
   "execution_count": null,
   "id": "261e8fc3-9a91-482b-957b-7f440be0d516",
   "metadata": {},
   "outputs": [],
   "source": [
    "# Load previous results."
   ]
  },
  {
   "cell_type": "code",
   "execution_count": null,
   "id": "e1f15c51-7fdf-48d3-a61f-1d2384fb7060",
   "metadata": {},
   "outputs": [],
   "source": [
    "# Plot the THG as a function of the Fermi energy for selected values\n",
    "# of the other two parameters.\n",
    "i1 = 20\n",
    "i2 = 10\n",
    "# ii = [(i1, 0), (i1, 9), (i1, 12), (i1, 20)]\n",
    "ii = [(0, i2), (10, i2), (15, i2), (20, i2)]\n",
    "mpl.style.use([\"classic\", \"latex\"])\n",
    "cmap = mpl.cm.get_cmap('gnuplot_r')\n",
    "plt.figure(figsize=(3.5,3.0), frameon=True, dpi=150)\n",
    "plt.axes([0.2, 0.2, 0.7, 0.7])\n",
    "for i,(i1,i2) in enumerate(ii):\n",
    "    plt.plot(eF_list, np.log10(thg_3d[i1,i2,:]), \"-ok\", ms=5.0,\n",
    "             color=cmap((i+1)/len(ii)),\n",
    "             label=r\"%6.2e %6.2e\" % (gammaPropList[i1], gammaInvList[i2]))\n",
    "plt.xlim([0.050, 0.250])\n",
    "plt.ylim([-10.0, -7.0])\n",
    "plt.xlabel(r\"$\\varepsilon_{\\rm F}~[{\\rm eV}]$\")\n",
    "plt.ylabel(r\"$\\log_{10}({\\rm THG})$\")\n",
    "plt.legend(frameon=False,loc=\"upper left\", fontsize=9)\n",
    "plt.savefig(\"%s/thg_vs_ef_04.png\" % saveDir, dpi=300)"
   ]
  }
 ],
 "metadata": {
  "kernelspec": {
   "display_name": "Python 3 (ipykernel)",
   "language": "python",
   "name": "python3"
  },
  "language_info": {
   "codemirror_mode": {
    "name": "ipython",
    "version": 3
   },
   "file_extension": ".py",
   "mimetype": "text/x-python",
   "name": "python",
   "nbconvert_exporter": "python",
   "pygments_lexer": "ipython3",
   "version": "3.6.9"
  }
 },
 "nbformat": 4,
 "nbformat_minor": 5
}
