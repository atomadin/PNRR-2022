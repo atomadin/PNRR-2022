{
 "cells": [
  {
   "cell_type": "code",
   "execution_count": null,
   "id": "9e325867-832d-4b19-9f3e-af02870a621a",
   "metadata": {},
   "outputs": [],
   "source": [
    "# Run the code for a specific set of values and calculate the maximum and minimum value of the temperature during the probe.\n",
    "# We must first determine the specific delay at which the THG signal is maximal."
   ]
  },
  {
   "cell_type": "code",
   "execution_count": 1,
   "id": "040b02cd-0c62-451a-b4a3-017bb79ca51c",
   "metadata": {},
   "outputs": [],
   "source": [
    "import numpy as np\n",
    "import pandas as pd\n",
    "import matplotlib as mpl\n",
    "import matplotlib.pyplot as plt\n",
    "import os\n",
    "import json\n",
    "from datetime import datetime\n",
    "import multiprocessing as mp\n",
    "import glob"
   ]
  },
  {
   "cell_type": "code",
   "execution_count": 2,
   "id": "d2668bbb-1f09-4d48-9abd-a4f6e509433f",
   "metadata": {},
   "outputs": [],
   "source": [
    "import models.graphene_thermodynamics_v2 as gt\n",
    "from models.cooling_phonons_v3 import CoolingPhonons\n",
    "from models.graphene_optics import GrapheneTHG"
   ]
  },
  {
   "cell_type": "code",
   "execution_count": 3,
   "id": "b44c233a-d643-4ecc-8a51-500a750fd76b",
   "metadata": {},
   "outputs": [],
   "source": [
    "# Load interpolation data for the calculation of chemical potentials.\n",
    "mm = gt.mu_func_use_2d_interpolation(load_from=\"mu_table.pkl\")"
   ]
  },
  {
   "cell_type": "code",
   "execution_count": 4,
   "id": "1bf305ae-a983-42ee-b8f1-833075e6dabb",
   "metadata": {},
   "outputs": [],
   "source": [
    "run_label = \"temp_estimate_probe\"\n",
    "time_stamp = datetime.now().strftime(\"%Y-%m-%d-%H-%M-%S\")\n",
    "saveDir = \"./data/05/%s_%s\" % (time_stamp, run_label)\n",
    "os.mkdir(saveDir)"
   ]
  },
  {
   "cell_type": "code",
   "execution_count": 5,
   "id": "fdbd838e-cd3b-46f6-89b6-346d82137527",
   "metadata": {},
   "outputs": [],
   "source": [
    "# One time-evolution with pump and probe pulse.\n",
    "def oneRun(x):\n",
    "    dyn = CoolingPhonons(**x[\"sysparams\"])\n",
    "    # Integrate up to a bit later than the end of the probe pulse.\n",
    "    tmax = x[\"sysparams\"][\"pr_delay\"] + x[\"sysparams\"][\"pr_dt\"] * 2.0\n",
    "    runparams = {\n",
    "        \"tmax\": tmax,\n",
    "        \"tnum\": int(300 * tmax / 1.0e+4),  # proportional to 300 points for 10ps\n",
    "        \"dt_approx\": 10.0,\n",
    "        \"print_time\": False    \n",
    "    }\n",
    "    dyn.run(**runparams)    \n",
    "    \n",
    "    r = (x[\"il\"], x[\"i_delay\"], dyn.p[\"etaTHG_avg\"])\n",
    "    return r"
   ]
  },
  {
   "cell_type": "code",
   "execution_count": 6,
   "id": "f5ad6984-22e2-4c26-bc94-88e734ff6f03",
   "metadata": {},
   "outputs": [],
   "source": [
    "# Generate a list of parameters to parallelize the calculation.\n",
    "sysparams = {\n",
    "    \"tempK_eq\": 30.0,\n",
    "    \"tau_ph\": 1200.0,\n",
    "    \"pu_dt\": 110.0,\n",
    "    \"pu_eph\": 1.200,\n",
    "    \"pr_fluenceSI\": 110.0,\n",
    "    \"pr_dt\": 150.0,\n",
    "    \"pr_eph\": 0.320,\n",
    "    \"nsub\": 1.4,  # hBN encapsulated with SiO2 around\n",
    "    \"ntop\": 1.4,\n",
    "    \"dtdb\": 200.0,\n",
    "    \"ph_en_frac\": 1.0,\n",
    "    \"dtdb_cutoff_dens\": None\n",
    "}\n",
    "\n",
    "# List of delay values.\n",
    "pr_delay_list = np.linspace(200.0, 1.0e+3, 21)\n",
    "# List of parameters.\n",
    "par_val_list = [\n",
    "    {\"eF\": 0.050, \"pu_fluenceSI\": 10.0},\n",
    "    {\"eF\": 0.050, \"pu_fluenceSI\": 60.0},\n",
    "    {\"eF\": 0.050, \"pu_fluenceSI\": 200.0},    \n",
    "    {\"eF\": 0.300, \"pu_fluenceSI\": 10.0},\n",
    "    {\"eF\": 0.300, \"pu_fluenceSI\": 60.0},\n",
    "    {\"eF\": 0.300, \"pu_fluenceSI\": 200.0}    \n",
    "]\n",
    "\n",
    "# Add the value of the delay, taken from the list, to the dictionary of sysparams.\n",
    "params_list = []\n",
    "for il,p in enumerate(par_val_list):\n",
    "    for i_delay,pr_delay in enumerate(pr_delay_list):\n",
    "        params_list.append({\"il\": il, \"i_delay\": i_delay, \"saveDir\": saveDir, \"sysparams\": {**sysparams, \"eF\": p[\"eF\"], \"pu_fluenceSI\": p[\"pu_fluenceSI\"], \"pr_delay\": pr_delay}})\n",
    "\n"
   ]
  },
  {
   "cell_type": "code",
   "execution_count": 7,
   "id": "6d787d4b-6fde-41b6-8f30-4785ec48f18e",
   "metadata": {},
   "outputs": [],
   "source": [
    "# Run the calculation and save the results.\n",
    "with mp.Pool(24) as p:\n",
    "    res_list = p.map(oneRun, params_list)"
   ]
  },
  {
   "cell_type": "code",
   "execution_count": 10,
   "id": "51d76c2f-ea9c-42a1-9b00-870c12dace5a",
   "metadata": {},
   "outputs": [
    {
     "name": "stdout",
     "output_type": "stream",
     "text": [
      "{'eF': 0.05, 'pu_fluenceSI': 10.0, 'pr_delay': 200.0}\n",
      "{'eF': 0.05, 'pu_fluenceSI': 60.0, 'pr_delay': 320.0}\n",
      "{'eF': 0.05, 'pu_fluenceSI': 200.0, 'pr_delay': 440.0}\n",
      "{'eF': 0.3, 'pu_fluenceSI': 10.0, 'pr_delay': 200.0}\n",
      "{'eF': 0.3, 'pu_fluenceSI': 60.0, 'pr_delay': 240.0}\n",
      "{'eF': 0.3, 'pu_fluenceSI': 200.0, 'pr_delay': 360.0}\n"
     ]
    }
   ],
   "source": [
    "# For each set of parameters, find the delay such that the THG is minimal.\n",
    "# We do not normalize to the \"unperturbed\" THG (no pump) because it does not change\n",
    "# the outcome of the minimization, since the reference THG value is the same.\n",
    "thg_vals = np.zeros((len(pr_delay_list), len(par_val_list)))\n",
    "for res in res_list:\n",
    "    thg_vals[res[1],res[0]] = res[2]\n",
    "i_delay_thg_min = [thg_vals[:,i].argmin() for i in range(len(par_val_list))]\n",
    "delay_thg_min_list = [pr_delay_list[i] for i in i_delay_thg_min]\n",
    "# Final list of parameters for the run, which includes Fermi energy, fluence, and delay.\n",
    "par_val_2_list = [{**p, \"pr_delay\": delay} for delay,p in zip(delay_thg_min_list,par_val_list)]\n",
    "for p in par_val_2_list:\n",
    "    print(p)"
   ]
  },
  {
   "cell_type": "code",
   "execution_count": 14,
   "id": "0d87b3c3-c85b-4e7f-8192-710fc85ae57f",
   "metadata": {},
   "outputs": [],
   "source": [
    "# One time-evolution with pump and probe pulse.\n",
    "# This time we need to save the time-evolution to analyze the temperature profiles.\n",
    "\n",
    "def oneRun2(x):\n",
    "    dyn = CoolingPhonons(**x[\"sysparams\"])\n",
    "    # Integrate up to a bit later than the end of the probe pulse.\n",
    "    tmax = x[\"sysparams\"][\"pr_delay\"] + x[\"sysparams\"][\"pr_dt\"] * 2.0\n",
    "    runparams = {\n",
    "        \"tmax\": tmax,\n",
    "        \"tnum\": 51,  # need more points\n",
    "        \"dt_approx\": 5.0,\n",
    "        \"print_time\": False    \n",
    "    }\n",
    "    dyn.run(**runparams)\n",
    "\n",
    "    with open(\"%s/params-%02d.json\" % (x[\"saveDir\"], x[\"il\"]), \"w\") as f:\n",
    "        json.dump({\"sysparams\": x[\"sysparams\"], \"runparams\": runparams}, f, indent=4)\n",
    "\n",
    "    np.savetxt(\"%s/dynamics-%02d.csv\" % (x[\"saveDir\"], x[\"il\"]), dyn.dynamics_m, delimiter=\",\")\n",
    "    np.savetxt(\"%s/thg-%02d.csv\" % (x[\"saveDir\"], x[\"il\"]), np.c_[dyn.p[\"pr_tt\"],dyn.p[\"etaTHG\"]], delimiter=\",\")\n",
    "    \n",
    "    r = x[\"il\"]\n",
    "    return r"
   ]
  },
  {
   "cell_type": "code",
   "execution_count": 15,
   "id": "c1a3f7e2-b07a-4b10-be92-682eead2fd00",
   "metadata": {},
   "outputs": [],
   "source": [
    "# Create the list of complete parameters for the runs.\n",
    "params_list = []\n",
    "for il,p in enumerate(par_val_2_list):\n",
    "    params_list.append({\"il\": il, \"saveDir\": saveDir, \"sysparams\": {**sysparams, \"eF\": p[\"eF\"], \"pu_fluenceSI\": p[\"pu_fluenceSI\"], \"pr_delay\": p[\"pr_delay\"]}})\n"
   ]
  },
  {
   "cell_type": "code",
   "execution_count": 16,
   "id": "059345b2-4d33-4cda-85da-f38882f9481b",
   "metadata": {},
   "outputs": [],
   "source": [
    "# Run the calculation and save the results.\n",
    "with mp.Pool(6) as p:\n",
    "    res_list2 = p.map(oneRun2, params_list)"
   ]
  },
  {
   "cell_type": "code",
   "execution_count": 17,
   "id": "a67c6fcc-53cc-4512-ae62-6da3894b3caf",
   "metadata": {},
   "outputs": [],
   "source": [
    "# For each run, from the set of parameters, determine the initial and final time of the pulse.\n",
    "time_brackets_list = []\n",
    "for p in params_list:\n",
    "    tmin = p[\"sysparams\"][\"pr_delay\"]\n",
    "    tmax = tmin + p[\"sysparams\"][\"pr_dt\"]\n",
    "    time_brackets_list.append([tmin, tmax])"
   ]
  },
  {
   "cell_type": "code",
   "execution_count": 35,
   "id": "0b65259f-5a07-4762-a548-cecb34042658",
   "metadata": {},
   "outputs": [
    {
     "name": "stdout",
     "output_type": "stream",
     "text": [
      "[[5.00e-02 1.00e+01 1.54e+03 1.82e+03]\n",
      " [5.00e-02 6.00e+01 1.97e+03 2.19e+03]\n",
      " [5.00e-02 2.00e+02 2.32e+03 2.45e+03]\n",
      " [3.00e-01 1.00e+01 9.40e+02 1.26e+03]\n",
      " [3.00e-01 6.00e+01 1.70e+03 1.86e+03]\n",
      " [3.00e-01 2.00e+02 2.21e+03 2.27e+03]]\n"
     ]
    }
   ],
   "source": [
    "# For each pulse, find maximum and minimum temperature in the appropriate time bracket,\n",
    "# i.e. when the probe pulse is active.\n",
    "temp_range_list = []\n",
    "for i in range(len(params_list)):\n",
    "    dyn = np.loadtxt(\"%s/dynamics-%02d.csv\" % (saveDir, i), delimiter=\",\")\n",
    "    tt = dyn[:,0]  # time mesh\n",
    "    tmin, tmax = time_brackets_list[i]  # time bracket\n",
    "    it_pr = np.where((tt>tmin) & (tt<tmax))  # time indices\n",
    "    tempK_t = dyn[:,1]  # temperatures in time\n",
    "    tempK_pr = tempK_t[it_pr]  # temperature in the time bracket\n",
    "    tempK_min = np.round(tempK_pr.min(), decimals=-1)  # round to 10K\n",
    "    tempK_max = np.round(tempK_pr.max(), decimals=-1)  # round to 10K\n",
    "    temp_range_list.append([par_val_2_list[i][\"eF\"],par_val_2_list[i][\"pu_fluenceSI\"],tempK_min, tempK_max])\n",
    "temp_range_list = np.array(temp_range_list)\n",
    "print(temp_range_list)\n",
    "np.savetxt(\"%s/temperature_range.csv\" % saveDir, temp_range_list, fmt=\"%15.3f\", delimiter=\",\",\n",
    "           header=\"%13s,%15s,%15s,%15s\" % (\"eF[eV]\", \"F_pu[uJ/cm^2]\", \"Tmin[K]\", \"Tmax[K]\"))"
   ]
  },
  {
   "cell_type": "code",
   "execution_count": 38,
   "id": "7048d8a0-9fb7-4117-9300-5242406021d0",
   "metadata": {},
   "outputs": [
    {
     "data": {
      "text/plain": [
       "Text(0, 0.5, '$T_{\\\\rm e}(t)~[{\\\\rm K}]$')"
      ]
     },
     "execution_count": 38,
     "metadata": {},
     "output_type": "execute_result"
    },
    {
     "data": {
      "image/png": "[encoded data removed]",
      "text/plain": [
       "<Figure size 525x450 with 1 Axes>"
      ]
     },
     "metadata": {},
     "output_type": "display_data"
    }
   ],
   "source": [
    "# Plot a curve to check.\n",
    "i = 4\n",
    "dyn = np.loadtxt(\"%s/dynamics-%02d.csv\" % (saveDir, i), delimiter=\",\")\n",
    "tt = dyn[:,0]\n",
    "tempK_t = dyn[:,1]\n",
    "\n",
    "mpl.style.use([\"classic\", \"latex\"])\n",
    "plt.figure(figsize=(3.5,3.0), frameon=True, dpi=150)\n",
    "plt.axes([0.2, 0.2, 0.7, 0.7])\n",
    "plt.axvspan(time_brackets_list[i][0], time_brackets_list[i][1], alpha=0.5, color=\"#90ee90\")\n",
    "plt.plot(tt, tempK_t, \"-k\")\n",
    "# plt.xlim([-100.0, 250.0])\n",
    "# plt.ylim([0.0, 1600])\n",
    "plt.xlabel(r\"$t~[{\\rm fs}]$\")\n",
    "plt.ylabel(r\"$T_{\\rm e}(t)~[{\\rm K}]$\")"
   ]
  },
  {
   "cell_type": "code",
   "execution_count": null,
   "id": "c08e3813-f1e9-4ad0-b1ed-b9ec0fc3b0c9",
   "metadata": {},
   "outputs": [],
   "source": []
  }
 ],
 "metadata": {
  "kernelspec": {
   "display_name": "Python 3 (ipykernel)",
   "language": "python",
   "name": "python3"
  },
  "language_info": {
   "codemirror_mode": {
    "name": "ipython",
    "version": 3
   },
   "file_extension": ".py",
   "mimetype": "text/x-python",
   "name": "python",
   "nbconvert_exporter": "python",
   "pygments_lexer": "ipython3",
   "version": "3.6.9"
  }
 },
 "nbformat": 4,
 "nbformat_minor": 5
}
