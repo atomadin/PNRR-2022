{
 "cells": [
  {
   "cell_type": "code",
   "execution_count": 1,
   "id": "9680ca7c-8311-4855-b03b-3d032d1ea74d",
   "metadata": {},
   "outputs": [],
   "source": [
    "import numpy as np\n",
    "import pandas as pd\n",
    "import matplotlib as mpl\n",
    "import matplotlib.pyplot as plt\n",
    "import os\n",
    "import json\n",
    "from datetime import datetime"
   ]
  },
  {
   "cell_type": "code",
   "execution_count": 2,
   "id": "d73527bb-c1ff-46c8-8c48-69ceb7b5d434",
   "metadata": {},
   "outputs": [],
   "source": [
    "from models.cooling_phonons_v3 import CoolingPhonons\n",
    "from models.graphene_optics import GrapheneTHG"
   ]
  },
  {
   "cell_type": "code",
   "execution_count": 3,
   "id": "00b89bd4-fde9-4183-a3d3-1e49b0989555",
   "metadata": {},
   "outputs": [],
   "source": [
    "run_label = \"density\"\n",
    "time_stamp = datetime.now().strftime(\"%Y-%m-%d-%H-%M-%S\")\n",
    "saveDir = \"./data/02/%s_%s\" % (time_stamp, run_label)\n",
    "os.mkdir(saveDir)"
   ]
  },
  {
   "cell_type": "code",
   "execution_count": 4,
   "id": "7574be34-08dd-4194-b941-e591555c9145",
   "metadata": {},
   "outputs": [],
   "source": [
    "eF_list = np.linspace(0.050, 0.400, 11)\n",
    "thg_list = []"
   ]
  },
  {
   "cell_type": "code",
   "execution_count": null,
   "id": "1c61fbdb-5b98-4aa1-a6b8-245162c92bbe",
   "metadata": {},
   "outputs": [],
   "source": [
    "for il, eF in enumerate(eF_list):\n",
    "    sysparams = {\n",
    "        \"tempK_eq\": 300.0,\n",
    "        \"tau_ph\": 1200.0,\n",
    "        \"pu_fluenceSI\": 100.0,\n",
    "        \"pu_dt\": 110.0,\n",
    "        \"pu_eph\": 1.200,\n",
    "        \"pr_delay\": 1000.0,\n",
    "        \"pr_fluenceSI\": 110.0,\n",
    "        \"pr_dt\": 150.0,\n",
    "        \"pr_eph\": 0.320,\n",
    "        \"nsub\": 1.45,\n",
    "        \"ntop\": 1.0,\n",
    "        \"eF\": eF\n",
    "    }\n",
    "    dyn = CoolingPhonons(**sysparams)\n",
    "    runparams = {\n",
    "        \"tmax\": (sysparams[\"pr_delay\"] + sysparams[\"pr_dt\"] * 2.0),\n",
    "        \"tnum\": 101,\n",
    "        \"dt_approx\": 10.0,\n",
    "        \"print_time\": False    \n",
    "    }\n",
    "    dyn.run(**runparams)\n",
    "\n",
    "    with open(\"%s/params-%02d.json\" % (saveDir, il), \"w\") as f:\n",
    "        json.dump({\"sysparams\": sysparams, \"runparams\": runparams}, f, indent=4)\n",
    "\n",
    "    np.savetxt(\"%s/dynamics-%02d.csv\" % (saveDir, il), dyn.dynamics_m, delimiter=\",\")\n",
    "    np.savetxt(\"%s/thg-%02d.csv\" % (saveDir, il), np.c_[dyn.p[\"pr_tt\"],dyn.p[\"etaTHG\"]], delimiter=\",\")\n",
    "    thg_list.append((eF, dyn.p[\"etaTHG_avg\"], dyn.p[\"etaTHG_max\"]))\n",
    "\n",
    "thg_list = np.array(thg_list)\n",
    "np.savetxt(\"%s/thg_vs_density.csv\" % saveDir, thg_list, delimiter=\",\")"
   ]
  },
  {
   "cell_type": "code",
   "execution_count": 8,
   "id": "092d66ba-38aa-410a-abd2-f1a03c83f1fb",
   "metadata": {
    "tags": []
   },
   "outputs": [
    {
     "data": {
      "image/png": "[encoded data removed]",
      "text/plain": [
       "<Figure size 525x450 with 1 Axes>"
      ]
     },
     "metadata": {},
     "output_type": "display_data"
    }
   ],
   "source": [
    "mpl.style.use([\"classic\", \"latex\"])\n",
    "fig = plt.figure(figsize=(3.5,3.0), frameon=True, dpi=150)\n",
    "plt.axes([0.2, 0.2, 0.7, 0.7])\n",
    "plt.plot(thg_list[:,0], thg_list[:,1], \"-k\")\n",
    "plt.plot(thg_list[:,0], thg_list[:,2], \"-r\")\n",
    "plt.xlim([0.0, 0.4])\n",
    "plt.ylim([0.0, 5.0e-8])\n",
    "plt.xlabel(r\"$\\varepsilon_{\\rm F}~[{\\rm eV}]$\")\n",
    "plt.ylabel(r\"$\\eta_{\\rm THG}$\")\n",
    "fig.savefig(\"%s/plot_etaTHG_density.png\" % saveDir, dpi=300)"
   ]
  },
  {
   "cell_type": "code",
   "execution_count": null,
   "id": "340c43a7-1a77-4591-8c1e-cd5d03218f68",
   "metadata": {},
   "outputs": [],
   "source": []
  }
 ],
 "metadata": {
  "kernelspec": {
   "display_name": "Python 3 (ipykernel)",
   "language": "python",
   "name": "python3"
  },
  "language_info": {
   "codemirror_mode": {
    "name": "ipython",
    "version": 3
   },
   "file_extension": ".py",
   "mimetype": "text/x-python",
   "name": "python",
   "nbconvert_exporter": "python",
   "pygments_lexer": "ipython3",
   "version": "3.6.9"
  }
 },
 "nbformat": 4,
 "nbformat_minor": 5
}
