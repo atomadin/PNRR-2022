{
 "cells": [
  {
   "cell_type": "code",
   "execution_count": 1,
   "id": "9680ca7c-8311-4855-b03b-3d032d1ea74d",
   "metadata": {},
   "outputs": [],
   "source": [
    "import numpy as np\n",
    "import pandas as pd\n",
    "import matplotlib as mpl\n",
    "import matplotlib.pyplot as plt\n",
    "import os\n",
    "import json\n",
    "from datetime import datetime\n",
    "import multiprocessing as mp\n",
    "import glob"
   ]
  },
  {
   "cell_type": "code",
   "execution_count": 2,
   "id": "d73527bb-c1ff-46c8-8c48-69ceb7b5d434",
   "metadata": {},
   "outputs": [],
   "source": [
    "import models.graphene_thermodynamics_v2 as gt\n",
    "from models.cooling_phonons_v3 import CoolingPhonons\n",
    "from models.graphene_optics import GrapheneTHG"
   ]
  },
  {
   "cell_type": "code",
   "execution_count": 3,
   "id": "e302bf00-4e3b-4a88-8bc9-a497bb04e395",
   "metadata": {},
   "outputs": [],
   "source": [
    "# Load interpolation data for the calculation of chemical potentials.\n",
    "mm = gt.mu_func_use_2d_interpolation(load_from=\"mu_table.pkl\")"
   ]
  },
  {
   "cell_type": "code",
   "execution_count": 4,
   "id": "60265dd2-8703-4b72-a2c1-aa4f9a429468",
   "metadata": {},
   "outputs": [],
   "source": [
    "run_label = \"test_pe_relax\"\n",
    "time_stamp = datetime.now().strftime(\"%Y-%m-%d-%H-%M-%S\")\n",
    "saveDir = \"./data/02/%s_%s\" % (time_stamp, run_label)\n",
    "os.mkdir(saveDir)"
   ]
  },
  {
   "cell_type": "code",
   "execution_count": 5,
   "id": "d8239328-a7f1-4823-a69e-7db784606285",
   "metadata": {},
   "outputs": [],
   "source": [
    "# saveDir = \"2023-04-28-21-49-03_debug\""
   ]
  },
  {
   "cell_type": "code",
   "execution_count": 6,
   "id": "1c61fbdb-5b98-4aa1-a6b8-245162c92bbe",
   "metadata": {},
   "outputs": [],
   "source": [
    "# One time-evolution with pump and probe pulse.\n",
    "def oneRun(x):\n",
    "    dyn = CoolingPhonons(**x[\"sysparams\"])\n",
    "    tmax = x[\"sysparams\"][\"pr_delay\"] + x[\"sysparams\"][\"pr_dt\"] * 2.0\n",
    "    runparams = {\n",
    "        # Integrate up to a bit later than the end of the probe pulse.\n",
    "        \"tmax\": tmax,\n",
    "        \"tnum\": int(300 * tmax / 1.0e+4),  # proportional to 300 points for 10ps\n",
    "        \"dt_approx\": 5.0,\n",
    "        \"print_time\": False    \n",
    "    }\n",
    "    dyn.run(**runparams)\n",
    "\n",
    "    with open(\"%s/params-%02d.json\" % (x[\"saveDir\"], x[\"il\"]), \"w\") as f:\n",
    "        json.dump({\"sysparams\": x[\"sysparams\"], \"runparams\": runparams}, f, indent=4)\n",
    "\n",
    "    np.savetxt(\"%s/dynamics-%02d.csv\" % (x[\"saveDir\"], x[\"il\"]), dyn.dynamics_m, delimiter=\",\")\n",
    "    np.savetxt(\"%s/thg-%02d.csv\" % (x[\"saveDir\"], x[\"il\"]), np.c_[dyn.p[\"pr_tt\"],dyn.p[\"etaTHG\"]], delimiter=\",\")\n",
    "    \n",
    "    r = (x[\"sysparams\"][\"pr_delay\"], dyn.p[\"etaTHG_avg\"], dyn.p[\"etaTHG_max\"])\n",
    "    np.savetxt(\"%s/thg_avg-%02d.csv\" % (x[\"saveDir\"], x[\"il\"]), np.array(r), delimiter=\",\")\n",
    "    return r"
   ]
  },
  {
   "cell_type": "code",
   "execution_count": 192,
   "id": "882e8aa3-fbe4-4517-a646-cac620912054",
   "metadata": {},
   "outputs": [],
   "source": [
    "# Generate a list of parameters to parallelize the calculation.\n",
    "sysparams = {\n",
    "    \"eF\": 0.300,\n",
    "    \"tempK_eq\": 30.0,\n",
    "    \"tau_ph\": 1200.0,\n",
    "    \"pu_fluenceSI\": 170.0,  # ORIG: 200.0  or 170.0\n",
    "    \"pu_dt\": 110.0,\n",
    "    \"pu_eph\": 1.200,\n",
    "    \"pr_fluenceSI\": 110.0,  # ORIG: 110.0\n",
    "    \"pr_dt\": 150.0,\n",
    "    \"pr_eph\": 0.320,\n",
    "    \"nsub\": 1.4,  # hBN encapsulated with SiO2 around\n",
    "    \"ntop\": 1.4,\n",
    "    \"alpha_res\": 1.0e-5,  # ORIG: 1.0e-3\n",
    "    \"gammaConst\": 0.0,\n",
    "    \"gammaProp\": 0.50,  # 0.55\n",
    "    \"gammaInv\": 0.02,\n",
    "    \"dtdb\": 45.0,  # ORIG: 200.0\n",
    "    \"ph_en_frac\": 1.0,\n",
    "    \"dtdb_cutoff_dens\": None,\n",
    "    \"pe_relax_rate\": 1.0/100.0\n",
    "}\n",
    "\n",
    "\n",
    "# List of delay values.\n",
    "pr_delay_list = np.linspace(0.0, 5.0e+3, 31)\n",
    "pr_delay_list = np.logspace(np.log10(50.0), np.log10(5000.0), 31)\n",
    "#pr_delay_list = np.linspace(200.0, 1.0e+3, 31)\n",
    "np.savetxt(\"%s/delays.csv\" % saveDir, pr_delay_list, delimiter=\",\")\n",
    "# Add the value of the delay, taken from the list, to the dictionary of sysparams.\n",
    "params_list = [{\"il\": il, \"saveDir\": saveDir, \"sysparams\": {**sysparams, \"pr_delay\": pr_delay}} for il,pr_delay in enumerate(pr_delay_list)]"
   ]
  },
  {
   "cell_type": "code",
   "execution_count": 193,
   "id": "ab19c73d-dd28-4e45-a0e3-ce81e0d5e42b",
   "metadata": {},
   "outputs": [],
   "source": [
    "# Run the calculation and save the results.\n",
    "with mp.Pool(24) as p:\n",
    "    thg_list = p.map(oneRun, params_list)\n",
    "\n",
    "thg_list = np.array(thg_list)\n",
    "np.savetxt(\"%s/thg_vs_delay.csv\" % saveDir, thg_list, delimiter=\",\")"
   ]
  },
  {
   "cell_type": "code",
   "execution_count": 194,
   "id": "c5b461ef-140b-4bf8-99da-be4db76bfd98",
   "metadata": {},
   "outputs": [],
   "source": [
    "# Calculate the THG without the pump pulse, i.e. with negligible intensity.\n",
    "# This will be the reference value of the THG.\n",
    "sysparams0 = sysparams.copy()\n",
    "sysparams0[\"pu_fluenceSI\"] = 0.0\n",
    "sysparams0[\"pr_delay\"] = pr_delay_list[0]\n",
    "\n",
    "dyn0 = CoolingPhonons(**sysparams0)\n",
    "tmax = sysparams0[\"pr_delay\"] + sysparams0[\"pr_dt\"] * 2.0\n",
    "runparams0 = {\n",
    "    # Integrate up to a bit later than the end of the probe pulse.\n",
    "    \"tmax\": tmax,\n",
    "    \"tnum\": int(300 * tmax / 1.0e+4),  # proportional to 300 points for 10ps\n",
    "    \"dt_approx\": 5.0,\n",
    "    \"print_time\": False    \n",
    "}\n",
    "dyn0.run(**runparams0)\n",
    "thg0_avg = dyn0.p[\"etaTHG_avg\"]\n",
    "thg0_max = dyn0.p[\"etaTHG_max\"]\n",
    "# Save the result.\n",
    "np.savetxt(\"%s/thg0_time.csv\" % saveDir, np.c_[dyn0.p[\"pr_tt\"],dyn0.p[\"etaTHG\"]], delimiter=\",\")\n",
    "np.savetxt(\"%s/thg0_pulse.csv\" % saveDir, np.array([sysparams0[\"pr_delay\"],thg0_avg, thg0_max]), delimiter=\",\")"
   ]
  },
  {
   "cell_type": "code",
   "execution_count": 195,
   "id": "092d66ba-38aa-410a-abd2-f1a03c83f1fb",
   "metadata": {
    "tags": []
   },
   "outputs": [
    {
     "data": {
      "image/png": "[encoded data removed]",
      "text/plain": [
       "<Figure size 525x450 with 1 Axes>"
      ]
     },
     "metadata": {},
     "output_type": "display_data"
    }
   ],
   "source": [
    "# Plot average and maximum THG during the probe pulse\n",
    "# as a function of pump-probe delay.\n",
    "mpl.style.use([\"classic\", \"latex\"])\n",
    "plt.figure(figsize=(3.5,3.0), frameon=True, dpi=150)\n",
    "plt.axes([0.2, 0.2, 0.7, 0.7])\n",
    "plt.plot(thg_list[:,0] * 1.0e-3, (thg_list[:,1] - thg0_avg) / thg0_avg, \"-ok\", ms=2.0)\n",
    "#plt.plot(thg_list[:,0] * 1.0e-3, (thg_list[:,2] - thg0_max) / thg0_max, \"or\", ms=2.0, mew=0.0)\n",
    "#plt.xlim([0.0, 1.0])\n",
    "plt.ylim([-1.0, 0.0])\n",
    "plt.xlabel(r\"delay $[{\\rm ps}]$\")\n",
    "# plt.ylabel(r\"$\\eta_{\\rm THG}$\")\n",
    "plt.ylabel(r\"$\\Delta{\\rm THG}/{\\rm THG}_{0}$\")\n",
    "plt.savefig(\"%s/plot_etaTHG_delay.png\" % saveDir, dpi=300)"
   ]
  },
  {
   "cell_type": "code",
   "execution_count": 11,
   "id": "c8756b81-f2a3-430a-9646-d0e88f94830e",
   "metadata": {},
   "outputs": [],
   "source": [
    "# Load all the time-dependent THGs to test other ways to average.\n",
    "delays = np.loadtxt(\"%s/delays.csv\" % saveDir, delimiter=\",\")\n",
    "thg_delay = [np.loadtxt(\"%s/thg-%02d.csv\" % (saveDir, i), delimiter=\",\") for i in range(len(delays))]\n",
    "thg_delay.append(np.loadtxt(\"%s/thg0_time.csv\" % saveDir, delimiter=\",\"))"
   ]
  },
  {
   "cell_type": "code",
   "execution_count": 12,
   "id": "394c9111-a7bc-428c-a0ec-f0688e35312f",
   "metadata": {},
   "outputs": [],
   "source": [
    "# Several transformation of the signal.\n",
    "from scipy.integrate import simps\n",
    "# Average and maximum (above) are special cases.\n",
    "# trasf_delay = [s[-1,1] for s in thg_delay]  # last value of the THG\n",
    "trasf_delay = [s[:,1].min() for s in thg_delay]  # minimum value of the THG\n",
    "# trasf_delay = [simps(s[:-3,1], s[:-3,0]) for s in thg_delay]  # average only some points"
   ]
  },
  {
   "cell_type": "code",
   "execution_count": 13,
   "id": "c468c649-f560-4c0c-a812-d6df88b5acd3",
   "metadata": {},
   "outputs": [],
   "source": [
    "# Differential transformed signal.\n",
    "diff_signal = [(trasf-trasf_delay[-1])/trasf_delay[-1] for trasf in trasf_delay[:-1]]"
   ]
  },
  {
   "cell_type": "code",
   "execution_count": 14,
   "id": "c667dac2-1d07-437e-b8fd-39c472efc499",
   "metadata": {},
   "outputs": [
    {
     "data": {
      "text/plain": [
       "Text(0, 0.5, '$\\\\Delta{\\\\rm THG}/{\\\\rm THG}_{0}$')"
      ]
     },
     "execution_count": 14,
     "metadata": {},
     "output_type": "execute_result"
    },
    {
     "data": {
      "image/png": "[encoded data removed]",
      "text/plain": [
       "<Figure size 525x450 with 1 Axes>"
      ]
     },
     "metadata": {},
     "output_type": "display_data"
    }
   ],
   "source": [
    "# Plot average and maximum THG during the probe pulse\n",
    "# as a function of pump-probe delay.\n",
    "mpl.style.use([\"classic\", \"latex\"])\n",
    "plt.figure(figsize=(3.5,3.0), frameon=True, dpi=150)\n",
    "plt.axes([0.2, 0.2, 0.7, 0.7])\n",
    "plt.plot(delays * 1.0e-3, diff_signal, \"ok\", ms=3.0)\n",
    "#plt.xlim([0.0, 1.0])\n",
    "plt.ylim([-0.05, 0.01])\n",
    "plt.xlabel(r\"delay $[{\\rm ps}]$\")\n",
    "# plt.ylabel(r\"$\\eta_{\\rm THG}$\")\n",
    "plt.ylabel(r\"$\\Delta{\\rm THG}/{\\rm THG}_{0}$\")\n",
    "# plt.savefig(\"%s/plot_etaTHG_delay.png\" % saveDir, dpi=300)"
   ]
  },
  {
   "cell_type": "code",
   "execution_count": null,
   "id": "3d8471a9-c45b-4234-8c1e-ebeb551d5d4f",
   "metadata": {},
   "outputs": [],
   "source": []
  }
 ],
 "metadata": {
  "kernelspec": {
   "display_name": "Python 3 (ipykernel)",
   "language": "python",
   "name": "python3"
  },
  "language_info": {
   "codemirror_mode": {
    "name": "ipython",
    "version": 3
   },
   "file_extension": ".py",
   "mimetype": "text/x-python",
   "name": "python",
   "nbconvert_exporter": "python",
   "pygments_lexer": "ipython3",
   "version": "3.8.10"
  }
 },
 "nbformat": 4,
 "nbformat_minor": 5
}
